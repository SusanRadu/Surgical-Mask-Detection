{
 "cells": [
  {
   "cell_type": "code",
   "execution_count": 1,
   "metadata": {},
   "outputs": [],
   "source": [
    "import librosa # library that will help read the .wav files\n",
    "from glob import glob # library that will help read the names of the files in folders\n",
    "import matplotlib.pyplot as plt # library that helps ploting\n",
    "import numpy as np # library for mathematical operations and more\n",
    "import scipy as sp # library for converting the aplitude array with fft"
   ]
  },
  {
   "cell_type": "code",
   "execution_count": 2,
   "metadata": {},
   "outputs": [],
   "source": [
    "f = open(r'C:\\Users\\RADU\\Desktop\\data\\train.txt', \"r\")# open the file where the audio train data name and label is\n",
    "lines = f.readlines()# read the lines\n",
    "\n",
    "data = []\n",
    "labels = []\n",
    "train_labels = []#array that will contain the training data labels, in order\n",
    "for i in range(8000):\n",
    "    s = lines[i][0] + lines[i][1] + lines[i][2] + lines[i][3] + lines[i][4]+ lines[i][5]# the first 6 chars in a line are the name of the audio file\n",
    "    x = int(s)\n",
    "    y = int(lines[i][11])#the twelvth char in a line is the label number\n",
    "    data.append(x)\n",
    "    labels.append(y)\n",
    "    \n",
    "train = np.stack((data, labels), axis=1)#combine the two list into an matrix with (name,label)\n",
    "train = train[np.argsort(train[:, 0])]#sort the matrix by audio file names\n",
    "\n",
    "for i in range(8000):\n",
    "    train_labels.append(train[i][1])#extract the labels of the train data \n",
    "    \n",
    "f.close()\n",
    "    "
   ]
  },
  {
   "cell_type": "code",
   "execution_count": 3,
   "metadata": {},
   "outputs": [],
   "source": [
    "f = open(r'C:\\Users\\RADU\\Desktop\\data\\validation.txt', \"r\")\n",
    "lines = f.readlines()\n",
    "#same thing as above except for validation data labels\n",
    "data = []\n",
    "labels = []\n",
    "validation_labels = []\n",
    "for i in range(1000):\n",
    "    s = lines[i][0] + lines[i][1] + lines[i][2] + lines[i][3] + lines[i][4]+ lines[i][5]\n",
    "    x = int(s)\n",
    "    y = int(lines[i][11])\n",
    "    data.append(x)\n",
    "    labels.append(y)\n",
    "    \n",
    "train = np.stack((data, labels), axis=1)\n",
    "train = train[np.argsort(train[:, 0])]\n",
    "\n",
    "for i in range(1000):\n",
    "    validation_labels.append(train[i][1])\n",
    "    \n",
    "f.close()"
   ]
  },
  {
   "cell_type": "code",
   "execution_count": 4,
   "metadata": {},
   "outputs": [],
   "source": [
    "train_data = []#list that will contain arrays of aplitudes of the audio files\n",
    "audio_files = glob(r'C:\\Users\\RADU\\Desktop\\data\\train' + '/*.wav')#get the path of every audio file in the train data folder\n",
    "for i in range(8000):\n",
    "    data, sampling_rate = librosa.load(audio_files[i],sr=None,mono=True,offset=0.0,duration=None)#load the audio files\n",
    "    train_data.append(data)"
   ]
  },
  {
   "cell_type": "code",
   "execution_count": 5,
   "metadata": {},
   "outputs": [],
   "source": [
    "validation_data = []#same thing as above for validation data\n",
    "audio_files = glob(r'C:\\Users\\RADU\\Desktop\\data\\validation' + '/*.wav')\n",
    "for i in range(1000):\n",
    "    data, sampling_rate = librosa.load(audio_files[i],sr=None,mono=True,offset=0.0,duration=None)\n",
    "    validation_data.append(data)"
   ]
  },
  {
   "cell_type": "code",
   "execution_count": 6,
   "metadata": {},
   "outputs": [],
   "source": [
    "test_data = []#same thing as above for testing data\n",
    "audio_files = glob(r'C:\\Users\\RADU\\Desktop\\data\\test' + '/*.wav')\n",
    "for i in range(3000):\n",
    "    data, sampling_rate = librosa.load(audio_files[i],sr=None,mono=True,offset=0.0,duration=None)\n",
    "    test_data.append(data)"
   ]
  },
  {
   "cell_type": "code",
   "execution_count": 7,
   "metadata": {},
   "outputs": [],
   "source": [
    "\n",
    "train_fft = []#train_data converted with fast fourier transform\n",
    "validation_fft = []\n",
    "test_fft = []\n",
    "\n",
    "for i in range(8000):\n",
    "    train_fft.append(abs(sp.fft.fft(train_data[i])))#scipy fft conversion\n",
    "\n",
    "for i in range(1000):\n",
    "    validation_fft.append(abs(sp.fft.fft(validation_data[i])))\n",
    "\n",
    "for i in range(3000):\n",
    "    test_fft.append(abs(sp.fft.fft(test_data[i])))\n"
   ]
  },
  {
   "cell_type": "code",
   "execution_count": 8,
   "metadata": {},
   "outputs": [],
   "source": [
    "train_mfcc = []#train_data converted to mel-frequency cepstral coefficients\n",
    "test_mfcc = []\n",
    "validation_mfcc = []\n",
    "\n",
    "for i in range(8000):\n",
    "    a = librosa.feature.mfcc(train_data[i],sampling_rate)#librosa mfcc convert function\n",
    "    a = a.reshape(-1)\n",
    "    train_mfcc.append(a)\n",
    "\n",
    "for i in range(1000):\n",
    "    a = librosa.feature.mfcc(validation_data[i],sampling_rate)\n",
    "    a = a.reshape(-1)\n",
    "    validation_mfcc.append(a)\n",
    "\n",
    "for i in range(3000):\n",
    "    a = librosa.feature.mfcc(test_data[i],sampling_rate)\n",
    "    a = a.reshape(-1)\n",
    "    test_mfcc.append(a)"
   ]
  },
  {
   "cell_type": "code",
   "execution_count": 9,
   "metadata": {},
   "outputs": [],
   "source": [
    "train_spect = []\n",
    "for i in range(8000):\n",
    "    a,b,c = sp.signal.spectrogram(train_data[i],sampling_rate)#scipy spectrogram conversion function\n",
    "    train_spect.append(c.reshape(-1))#we have to make the returned matrix into an array, so we can use it in our model"
   ]
  },
  {
   "cell_type": "code",
   "execution_count": 10,
   "metadata": {},
   "outputs": [],
   "source": [
    "validation_spect = []\n",
    "for i in range(1000):\n",
    "    a,b,c = sp.signal.spectrogram(validation_data[i],sampling_rate)\n",
    "    validation_spect.append(c.reshape(-1))"
   ]
  },
  {
   "cell_type": "code",
   "execution_count": 11,
   "metadata": {},
   "outputs": [],
   "source": [
    "from sklearn.naive_bayes import MultinomialNB#the naive bayes model from sklearn\n",
    "\n",
    "naive_bayes_model = MultinomialNB()#create the model\n",
    "naive_bayes_model.fit(train_fft, train_labels)#train the model\n",
    "y_pred_nb = naive_bayes_model.predict(validation_fft)#the results from validation prediction"
   ]
  },
  {
   "cell_type": "code",
   "execution_count": 12,
   "metadata": {},
   "outputs": [],
   "source": [
    "import sklearn.svm as sk#the support vector machine model from sklearn\n",
    "\n",
    "svc = sk.SVC(C=4)#create the model\n",
    "svc.fit(train_fft,train_labels)#train the model\n",
    "y_pred_svm = svc.predict(validation_fft)#the results from validation prediction"
   ]
  },
  {
   "cell_type": "code",
   "execution_count": 23,
   "metadata": {},
   "outputs": [],
   "source": [
    "#block of code that will score our validation prediction\n",
    "k=0\n",
    "for i in range(1000):\n",
    "    if y_pred_svm[i]==validation_labels[i]:\n",
    "        k=k+1\n"
   ]
  },
  {
   "cell_type": "code",
   "execution_count": 24,
   "metadata": {},
   "outputs": [
    {
     "name": "stdout",
     "output_type": "stream",
     "text": [
      "Accuracy  640 0.640\n",
      "Loss 340 0.340 \n"
     ]
    }
   ],
   "source": [
    "print('Accuracy',' 640 0.640')\n",
    "print('Loss' + ' 340 0.340 ')"
   ]
  },
  {
   "cell_type": "code",
   "execution_count": 25,
   "metadata": {},
   "outputs": [
    {
     "data": {
      "text/plain": [
       "array([[290., 182.],\n",
       "       [160., 368.]])"
      ]
     },
     "execution_count": 25,
     "metadata": {},
     "output_type": "execute_result"
    }
   ],
   "source": [
    "confusion_matrix = np.zeros((2,2))\n",
    "for i, y in enumerate(y_pred_svm):\n",
    "        confusion_matrix[validation_labels[i]][y] += 1\n",
    "confusion_matrix\n"
   ]
  },
  {
   "cell_type": "code",
   "execution_count": 16,
   "metadata": {},
   "outputs": [
    {
     "name": "stdout",
     "output_type": "stream",
     "text": [
      "Accuracy 586 0.586\n",
      "Loss 414 0.41400000000000003\n"
     ]
    }
   ],
   "source": [
    "k=0\n",
    "for i in range(1000):\n",
    "    if y_pred_nb[i]==validation_labels[i]:\n",
    "        k=k+1\n",
    "print('Accuracy',k,k/1000)\n",
    "print('Loss',1000-k,1-(k/1000))"
   ]
  },
  {
   "cell_type": "code",
   "execution_count": 17,
   "metadata": {},
   "outputs": [
    {
     "data": {
      "text/plain": [
       "array([[269., 203.],\n",
       "       [211., 317.]])"
      ]
     },
     "execution_count": 17,
     "metadata": {},
     "output_type": "execute_result"
    }
   ],
   "source": [
    "confusion_matrix = np.zeros((2,2))\n",
    "for i, y in enumerate(y_pred_nb):\n",
    "        confusion_matrix[validation_labels[i]][y] += 1\n",
    "confusion_matrix"
   ]
  },
  {
   "cell_type": "code",
   "execution_count": 18,
   "metadata": {},
   "outputs": [
    {
     "name": "stdout",
     "output_type": "stream",
     "text": [
      "Accuracy 586 0.586\n",
      "Loss 414 0.41400000000000003\n"
     ]
    }
   ],
   "source": [
    "#block of code that will score our validation prediction\n",
    "k=0\n",
    "for i in range(1000):\n",
    "    if y_pred_nb[i]==validation_labels[i]:\n",
    "        k=k+1\n",
    "print('Accuracy',k,k/1000)\n",
    "print('Loss',1000-k,1-(k/1000))"
   ]
  },
  {
   "cell_type": "code",
   "execution_count": 22,
   "metadata": {},
   "outputs": [
    {
     "ename": "IndexError",
     "evalue": "index 1000 is out of bounds for axis 0 with size 1000",
     "output_type": "error",
     "traceback": [
      "\u001b[1;31m---------------------------------------------------------------------------\u001b[0m",
      "\u001b[1;31mIndexError\u001b[0m                                Traceback (most recent call last)",
      "\u001b[1;32m<ipython-input-22-7bb9c89ad0e6>\u001b[0m in \u001b[0;36m<module>\u001b[1;34m\u001b[0m\n\u001b[0;32m      8\u001b[0m     \u001b[0ms\u001b[0m \u001b[1;33m=\u001b[0m \u001b[0mstr\u001b[0m\u001b[1;33m(\u001b[0m\u001b[0mx\u001b[0m\u001b[1;33m)\u001b[0m\u001b[1;33m\u001b[0m\u001b[1;33m\u001b[0m\u001b[0m\n\u001b[0;32m      9\u001b[0m     \u001b[0mf\u001b[0m\u001b[1;33m.\u001b[0m\u001b[0mwrite\u001b[0m\u001b[1;33m(\u001b[0m\u001b[0ms\u001b[0m \u001b[1;33m+\u001b[0m \u001b[1;34m\".wav\"\u001b[0m\u001b[1;33m)\u001b[0m\u001b[1;33m\u001b[0m\u001b[1;33m\u001b[0m\u001b[0m\n\u001b[1;32m---> 10\u001b[1;33m     \u001b[0mf\u001b[0m\u001b[1;33m.\u001b[0m\u001b[0mwrite\u001b[0m\u001b[1;33m(\u001b[0m\u001b[1;34m\",\"\u001b[0m\u001b[1;33m+\u001b[0m\u001b[0mstr\u001b[0m\u001b[1;33m(\u001b[0m\u001b[0my_pred_svm\u001b[0m\u001b[1;33m[\u001b[0m\u001b[0mi\u001b[0m\u001b[1;33m]\u001b[0m\u001b[1;33m)\u001b[0m\u001b[1;33m)\u001b[0m\u001b[1;33m\u001b[0m\u001b[1;33m\u001b[0m\u001b[0m\n\u001b[0m\u001b[0;32m     11\u001b[0m     \u001b[0mf\u001b[0m\u001b[1;33m.\u001b[0m\u001b[0mwrite\u001b[0m\u001b[1;33m(\u001b[0m\u001b[1;34m\"\\n\"\u001b[0m\u001b[1;33m)\u001b[0m\u001b[1;33m\u001b[0m\u001b[1;33m\u001b[0m\u001b[0m\n",
      "\u001b[1;31mIndexError\u001b[0m: index 1000 is out of bounds for axis 0 with size 1000"
     ]
    }
   ],
   "source": [
    "#block of code that will write the test prediciton into an csv named submission\n",
    "f = open(r'C:\\Users\\RADU\\Desktop\\data\\submission.txt','w+')\n",
    "\n",
    "f.write(\"name,label\")\n",
    "f.write(\"\\n\")\n",
    "for i in range(3000):\n",
    "    x = 300001+i\n",
    "    s = str(x)\n",
    "    f.write(s + \".wav\")\n",
    "    f.write(\",\"+str(y_pred[i]))\n",
    "    f.write(\"\\n\")\n"
   ]
  },
  {
   "cell_type": "code",
   "execution_count": null,
   "metadata": {},
   "outputs": [],
   "source": []
  }
 ],
 "metadata": {
  "kernelspec": {
   "display_name": "Python 3",
   "language": "python",
   "name": "python3"
  },
  "language_info": {
   "codemirror_mode": {
    "name": "ipython",
    "version": 3
   },
   "file_extension": ".py",
   "mimetype": "text/x-python",
   "name": "python",
   "nbconvert_exporter": "python",
   "pygments_lexer": "ipython3",
   "version": "3.7.6"
  }
 },
 "nbformat": 4,
 "nbformat_minor": 4
}
